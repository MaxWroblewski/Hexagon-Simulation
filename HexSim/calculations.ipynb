{
 "cells": [
  {
   "cell_type": "code",
   "execution_count": null,
   "metadata": {},
   "outputs": [],
   "source": [
    "import numpy as np\n",
    "import sympy as sp\n",
    "from sympy import symbols\n",
    "from sympy import Matrix\n",
    "from sympy.printing import latex\n",
    "import latexify\n"
   ]
  },
  {
   "cell_type": "code",
   "execution_count": 17,
   "metadata": {},
   "outputs": [
    {
     "name": "stdout",
     "output_type": "stream",
     "text": [
      "[[2*Ixx Ixy*cos(theta) + Ixy - Ixz*sin(theta)\n",
      "  Ixy*sin(theta) + Ixz*cos(theta) + Ixz]\n",
      " [Ixy*cos(theta) + Ixy - Ixz*sin(theta)\n",
      "  Iyy + (Iyy*cos(theta) - Iyz*sin(theta))*cos(theta) - (Iyz*cos(theta) - Izz*sin(theta))*sin(theta)\n",
      "  Iyz + (Iyy*cos(theta) - Iyz*sin(theta))*sin(theta) + (Iyz*cos(theta) - Izz*sin(theta))*cos(theta)]\n",
      " [Ixy*sin(theta) + Ixz*cos(theta) + Ixz\n",
      "  Iyz + (Iyy*sin(theta) + Iyz*cos(theta))*cos(theta) - (Iyz*sin(theta) + Izz*cos(theta))*sin(theta)\n",
      "  Izz + (Iyy*sin(theta) + Iyz*cos(theta))*sin(theta) + (Iyz*sin(theta) + Izz*cos(theta))*cos(theta)]]\n"
     ]
    }
   ],
   "source": [
    "a, m, h, theta = symbols('a m h theta')\n",
    "\n",
    "Ixx, Ixy, Ixz, Iyx, Iyy, Iyz, Izx, Izy, Izz = symbols('Ixx Ixy Ixz Iyx Iyy Iyz Izx Izy Izz')\n",
    "\n",
    "# Inertia components for a single prism\n",
    "I_xx = (5/24) * m * a**2\n",
    "I_yy = (m * h**2) / 12 + (5/48) * m * a**2\n",
    "\n",
    "# Total inertia tensor for the two prisms (centered at the same point)\n",
    "I = np.array([\n",
    "    [Ixx,       Ixy,          Ixz],\n",
    "    [Ixy,        Iyy,         Iyz],\n",
    "    [Ixz,            Iyz,      Izz]\n",
    "])\n",
    "\n",
    "#Rotation theta about x\n",
    "r = np.array([\n",
    "    [1,       0,          0],\n",
    "    [0,        sp.cos(theta),         -sp.sin(theta)],\n",
    "    [0,            sp.sin(theta),      sp.cos(theta)]\n",
    "])\n",
    "\n",
    "I_R = r @ I @ r.T\n",
    "\n",
    "print(I + I_R)"
   ]
  },
  {
   "cell_type": "code",
   "execution_count": 18,
   "metadata": {},
   "outputs": [
    {
     "data": {
      "text/latex": [
       "$\\displaystyle \\left[\\begin{matrix}Ixx & Ixy \\cos{\\left(\\theta \\right)} - Ixz \\sin{\\left(\\theta \\right)} & Ixy \\sin{\\left(\\theta \\right)} + Ixz \\cos{\\left(\\theta \\right)}\\\\Ixy \\cos{\\left(\\theta \\right)} - Ixz \\sin{\\left(\\theta \\right)} & \\left(Iyy \\cos{\\left(\\theta \\right)} - Iyz \\sin{\\left(\\theta \\right)}\\right) \\cos{\\left(\\theta \\right)} - \\left(Iyz \\cos{\\left(\\theta \\right)} - Izz \\sin{\\left(\\theta \\right)}\\right) \\sin{\\left(\\theta \\right)} & \\left(Iyy \\cos{\\left(\\theta \\right)} - Iyz \\sin{\\left(\\theta \\right)}\\right) \\sin{\\left(\\theta \\right)} + \\left(Iyz \\cos{\\left(\\theta \\right)} - Izz \\sin{\\left(\\theta \\right)}\\right) \\cos{\\left(\\theta \\right)}\\\\Ixy \\sin{\\left(\\theta \\right)} + Ixz \\cos{\\left(\\theta \\right)} & \\left(Iyy \\sin{\\left(\\theta \\right)} + Iyz \\cos{\\left(\\theta \\right)}\\right) \\cos{\\left(\\theta \\right)} - \\left(Iyz \\sin{\\left(\\theta \\right)} + Izz \\cos{\\left(\\theta \\right)}\\right) \\sin{\\left(\\theta \\right)} & \\left(Iyy \\sin{\\left(\\theta \\right)} + Iyz \\cos{\\left(\\theta \\right)}\\right) \\sin{\\left(\\theta \\right)} + \\left(Iyz \\sin{\\left(\\theta \\right)} + Izz \\cos{\\left(\\theta \\right)}\\right) \\cos{\\left(\\theta \\right)}\\end{matrix}\\right]$"
      ],
      "text/plain": [
       "Matrix([\n",
       "[                            Ixx,                                                             Ixy*cos(theta) - Ixz*sin(theta),                                                             Ixy*sin(theta) + Ixz*cos(theta)],\n",
       "[Ixy*cos(theta) - Ixz*sin(theta), (Iyy*cos(theta) - Iyz*sin(theta))*cos(theta) - (Iyz*cos(theta) - Izz*sin(theta))*sin(theta), (Iyy*cos(theta) - Iyz*sin(theta))*sin(theta) + (Iyz*cos(theta) - Izz*sin(theta))*cos(theta)],\n",
       "[Ixy*sin(theta) + Ixz*cos(theta), (Iyy*sin(theta) + Iyz*cos(theta))*cos(theta) - (Iyz*sin(theta) + Izz*cos(theta))*sin(theta), (Iyy*sin(theta) + Iyz*cos(theta))*sin(theta) + (Iyz*sin(theta) + Izz*cos(theta))*cos(theta)]])"
      ]
     },
     "execution_count": 18,
     "metadata": {},
     "output_type": "execute_result"
    }
   ],
   "source": [
    "Matrix(I_R)"
   ]
  },
  {
   "cell_type": "code",
   "execution_count": 20,
   "metadata": {},
   "outputs": [],
   "source": [
    "def build_matrix(a11, a12, a13, a21, a22, a23, a31, a32, a33):\n",
    "    matrix = np.array([\n",
    "        [a11, a12, a13],\n",
    "        [a21, a22, a23],\n",
    "        [a31, a32, a33]\n",
    "    ])\n",
    "    return matrix\n",
    "\n",
    "def build_matrix_symmetric(a11, a12, a13, a22, a23, a33):\n",
    "    matrix_symmetric = np.array([\n",
    "        [a11, a12, a13],\n",
    "        [a12, a22, a23],\n",
    "        [a13, a23, a33]\n",
    "    ])\n",
    "    return matrix_symmetric"
   ]
  },
  {
   "cell_type": "code",
   "execution_count": 21,
   "metadata": {},
   "outputs": [
    {
     "name": "stdout",
     "output_type": "stream",
     "text": [
      "Transformed Inertia Tensor:\n",
      "[[ 1.63570752 -0.4201162   0.29717949]\n",
      " [-0.4201162   1.86179248  0.00366748]\n",
      " [ 0.29717949  0.00366748  1.6025    ]]\n"
     ]
    }
   ],
   "source": [
    "def euler_to_rotation(alpha, beta, gamma):\n",
    "    \"\"\"\n",
    "    Compute the rotation matrix from Euler angles.\n",
    "    Here we use the Z-Y-X convention:\n",
    "      R = Rz(alpha) @ Ry(beta) @ Rx(gamma)\n",
    "    Angles are in radians.\n",
    "    \"\"\"\n",
    "    Rz = np.array([\n",
    "        [np.cos(alpha), -np.sin(alpha), 0],\n",
    "        [np.sin(alpha),  np.cos(alpha), 0],\n",
    "        [0,              0,             1]\n",
    "    ])\n",
    "    \n",
    "    Ry = np.array([\n",
    "        [ np.cos(beta), 0, np.sin(beta)],\n",
    "        [ 0,            1, 0],\n",
    "        [-np.sin(beta), 0, np.cos(beta)]\n",
    "    ])\n",
    "    \n",
    "    Rx = np.array([\n",
    "        [1, 0,              0],\n",
    "        [0, np.cos(gamma), -np.sin(gamma)],\n",
    "        [0, np.sin(gamma),  np.cos(gamma)]\n",
    "    ])\n",
    "    \n",
    "    # Combined rotation matrix\n",
    "    return Rz @ Ry @ Rx\n",
    "\n",
    "def transform_inertia_tensor(I_body, m, R_disp, alpha, beta, gamma):\n",
    "    \"\"\"\n",
    "    Transform the inertia tensor I_body (in the body frame) by:\n",
    "      1. Rotating it using the Euler angles (alpha, beta, gamma).\n",
    "      2. Applying the parallel axis theorem for a displacement R_disp.\n",
    "    \n",
    "    Parameters:\n",
    "      I_body : 3x3 numpy array\n",
    "          Inertia tensor in the body frame.\n",
    "      m : float\n",
    "          Mass of the body.\n",
    "      R_disp : array-like of length 3\n",
    "          Displacement vector (x, y, z) from the center of mass to the new axis.\n",
    "      alpha, beta, gamma : float\n",
    "          Euler angles in radians.\n",
    "    \n",
    "    Returns:\n",
    "      I_transformed : 3x3 numpy array\n",
    "          The transformed inertia tensor.\n",
    "    \"\"\"\n",
    "    # Rotation matrix from Euler angles\n",
    "    R = euler_to_rotation(alpha, beta, gamma)\n",
    "    \n",
    "    # Rotate the inertia tensor\n",
    "    I_rot = R @ I_body @ R.T\n",
    "    \n",
    "    # Compute the parallel axis term\n",
    "    d2 = np.dot(R_disp, R_disp)\n",
    "    d_outer = np.outer(R_disp, R_disp)\n",
    "    parallel_axis_term = m * (d2 * np.eye(3) - d_outer)\n",
    "    \n",
    "    # Combine rotated inertia with the parallel axis correction\n",
    "    I_transformed = I_rot + parallel_axis_term\n",
    "    return I_transformed\n",
    "\n",
    "# Example usage\n",
    "if __name__ == \"__main__\":\n",
    "    # Define an example inertia tensor (in body frame)\n",
    "    I_body = np.array([\n",
    "        [1.0, 0.0, 0.0],\n",
    "        [0.0, 1.5, 0.0],\n",
    "        [0.0, 0.0, 2.0]\n",
    "    ])\n",
    "    \n",
    "    mass = 1.0  # mass of the body\n",
    "    \n",
    "    # Define Euler angles in degrees and convert to radians\n",
    "    alpha = np.deg2rad(30)\n",
    "    beta  = np.deg2rad(45)\n",
    "    gamma = np.deg2rad(60)\n",
    "    \n",
    "    # Define the displacement vector R = (x, y, z)\n",
    "    R_disp = np.array([0.5, 0.2, 0.1])\n",
    "    \n",
    "    # Compute the transformed inertia tensor\n",
    "    I_transformed = transform_inertia_tensor(I_body, mass, R_disp, alpha, beta, gamma)\n",
    "    \n",
    "    print(\"Transformed Inertia Tensor:\")\n",
    "    print(I_transformed)\n"
   ]
  }
 ],
 "metadata": {
  "kernelspec": {
   "display_name": "base",
   "language": "python",
   "name": "python3"
  },
  "language_info": {
   "codemirror_mode": {
    "name": "ipython",
    "version": 3
   },
   "file_extension": ".py",
   "mimetype": "text/x-python",
   "name": "python",
   "nbconvert_exporter": "python",
   "pygments_lexer": "ipython3",
   "version": "3.9.13"
  }
 },
 "nbformat": 4,
 "nbformat_minor": 2
}
