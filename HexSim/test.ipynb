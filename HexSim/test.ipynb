{
 "cells": [
  {
   "cell_type": "code",
   "execution_count": 1,
   "metadata": {},
   "outputs": [],
   "source": [
    "from scripts.form_matrix import Hexagonal_Prism\n"
   ]
  },
  {
   "cell_type": "code",
   "execution_count": 2,
   "metadata": {},
   "outputs": [
    {
     "name": "stdout",
     "output_type": "stream",
     "text": [
      "[[ 2.97696233e-01 -5.20417043e-17  5.63785130e-18]\n",
      " [-5.20417043e-17  2.97696233e-01  3.03576608e-18]\n",
      " [ 5.63785130e-18  3.03576608e-18  5.41265877e-01]]\n",
      "[[ 2.97696233e-01 -5.55111512e-17 -9.87234988e-19]\n",
      " [-5.55111512e-17  2.97696233e-01  9.92956029e-19]\n",
      " [-9.87234988e-19  9.92956029e-19  5.41265877e-01]]\n"
     ]
    }
   ],
   "source": [
    "# Defining parameters\n",
    "\n",
    "a = 1\n",
    "h = 0.5\n",
    "rho = 1\n",
    "\n",
    "prism = Hexagonal_Prism(a, rho, h)\n",
    "\n",
    "uniform_IT = prism.form_uniform_matrix()[0]\n",
    "composite_IT = prism.form_matrix_triangles()[0]\n",
    "\n",
    "print(uniform_IT)\n",
    "print(composite_IT)"
   ]
  },
  {
   "cell_type": "code",
   "execution_count": null,
   "metadata": {},
   "outputs": [],
   "source": []
  }
 ],
 "metadata": {
  "kernelspec": {
   "display_name": "CIERAREU",
   "language": "python",
   "name": "python3"
  },
  "language_info": {
   "codemirror_mode": {
    "name": "ipython",
    "version": 3
   },
   "file_extension": ".py",
   "mimetype": "text/x-python",
   "name": "python",
   "nbconvert_exporter": "python",
   "pygments_lexer": "ipython3",
   "version": "3.10.14"
  }
 },
 "nbformat": 4,
 "nbformat_minor": 2
}
